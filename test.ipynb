{
 "cells": [
  {
   "cell_type": "markdown",
   "metadata": {},
   "source": [
    "# TEST lv2 EXPRES"
   ]
  },
  {
   "cell_type": "code",
   "execution_count": 1,
   "metadata": {},
   "outputs": [
    {
     "name": "stdout",
     "output_type": "stream",
     "text": [
      "here\n",
      "converting EXPRES spectrum\n",
      "INSTRUME\n",
      "EXPRES\n",
      "INSTRUME: EXPRES\n",
      "ORGANIZA\n",
      "ORGANIZA: Yale\n",
      "ORIGIN\n",
      "\n",
      "DATALVL\n",
      "DATALVL: L2\n",
      "OBSERVER\n",
      "Solar . Telescope\n",
      "OBSERVER: Solar . Telescope\n",
      "PROGRAM\n",
      "201\n",
      "PROGRAM: 201\n",
      "PINAME\n",
      "\n",
      "OBSTYPE\n",
      "OBSTYPE: Sci\n",
      "OBSMODE\n",
      "\n",
      "READMODE\n",
      "\n",
      "BINNING\n",
      "BINNING: 1x1\n",
      "NUMTRACE\n",
      "NUMTRACE: 1\n",
      "NUMORDER\n",
      "NUMORDER: 86\n",
      "OBJECT\n",
      "Sun\n",
      "OBJECT: Sun\n",
      "ALIASES\n",
      "\n",
      "FILENAME\n",
      "FILENAME: EXPRESL2_250330T20:25:15.88.fits\n",
      "DATE\n",
      "\n",
      "DATE: \n",
      "DATE-OBS\n",
      "2025-03-30T20:24:06.457\n",
      "DATE-OBS: 2025-03-30T20:24:06.457\n",
      "JD_UTC\n",
      "JD_UTC: 2460765.3500747336\n",
      "EXPTIME\n",
      "138.85200099999366\n",
      "EXPTIME: 138.85200099999366\n",
      "TRACE1\n",
      "Sun\n",
      "TRACE1: Sun\n",
      "CLSRC1\n",
      "Sun\n",
      "CLSRC1: Sun\n",
      "CSRC1\n",
      "\n",
      "CSRC1: \n",
      "CID1\n",
      "\n",
      "CID1: \n",
      "CRA1\n",
      "00:36:51.49\n",
      "CRA1: 00:36:51.49\n",
      "CDEC1\n",
      "03:58:13.84\n",
      "CDEC1: 03:58:13.84\n",
      "CEQNX1\n",
      "\n",
      "CEQNX1: \n",
      "CEPCH1\n",
      "\n",
      "CEPCH1: \n",
      "CPLX1\n",
      "\n",
      "CPMR1\n",
      "\n",
      "CPMD1\n",
      "\n",
      "CRV1\n",
      "\n",
      "CZ1\n",
      "\n",
      "CCLR1\n",
      "\n",
      "OBSERVAT\n",
      "DCT\n",
      "OBSERVAT: DCT\n",
      "TELESCOP\n",
      "DCT\n",
      "TELESCOP: DCT\n",
      "OBSLON\n",
      "-111.422515\n",
      "OBSLON: -111.422515\n",
      "OBSLAT\n",
      "34.744305\n",
      "OBSLAT: 34.744305\n",
      "OBSALT\n",
      "2337.0\n",
      "OBSALT: 2337.0\n",
      "SEEING\n",
      "\n",
      "AIRMASS\n",
      "1.193833080212241\n",
      "AIRMASS: 1.193833080212241\n",
      "TTIME\n",
      "\n",
      "TEQNX\n",
      "\n",
      "TEPCH\n",
      "\n",
      "TLST1\n",
      "\n",
      "TRA1\n",
      "\n",
      "TDEC1\n",
      "\n",
      "TEL1\n",
      "\n",
      "TZA1\n",
      "\n",
      "TAZ1\n",
      "\n",
      "THA1\n",
      "\n",
      "PARANG\n",
      "\n",
      "PARANG2\n",
      "\n",
      "ROTANG\n",
      "\n",
      "SUNEL\n",
      "\n",
      "MOONANG\n",
      "-99.99\n",
      "MOONANG: -99.99\n",
      "MOONEL\n",
      "\n",
      "MOONILLU\n",
      "\n",
      "MOONRV\n",
      "\n",
      "INHUM\n",
      "\n",
      "INHUMT\n",
      "\n",
      "OUTTMP\n",
      "\n",
      "OUTTMPT\n",
      "\n",
      "OUTHUM\n",
      "\n",
      "OUTHUMT\n",
      "\n",
      "ENVWINDS\n",
      "\n",
      "ENVWINDD\n",
      "\n",
      "DRPTAG\n",
      "DRPTAG: 0.4.2\n",
      "EPRVTAG\n",
      "\n",
      "EPRVTAG: \n",
      "VOCLASS\n",
      "\n",
      "VOCLASS: \n",
      "DRPHASH\n",
      "\n",
      "INSTERA\n",
      "INSTERA: 5.10\n",
      "EXTRACT\n",
      "EXTRACT: optimal\n",
      "FULLCOMP\n",
      "\n",
      "FULLCOMP: \n",
      "TELFLAG\n",
      "\n",
      "INSTFLAG\n",
      "INSTFLAG: Pass\n",
      "DRPFLAG\n",
      "DRPFLAG: Pass\n",
      "ADDFLAG\n",
      "\n",
      "OBSFLAG\n",
      "\n",
      "SUMMFLAG\n",
      "\n",
      "SUMMFLAG: \n",
      "DQLVL0\n",
      "\n",
      "DQLVL0: \n",
      "DQLVL1\n",
      "\n",
      "DQLVL1: \n",
      "DQLVL2\n",
      "\n",
      "DQLVL2: \n"
     ]
    },
    {
     "name": "stderr",
     "output_type": "stream",
     "text": [
      "WARNING: UnitsWarning: 'pixels' did not parse as fits unit: At col 0, Unit 'pixels' not supported by the FITS standard. Did you mean pixel? If this is meant to be a custom unit, define it with 'u.def_unit'. To have it recognized inside a file reader or other code, enable it with 'u.add_enabled_units'. For details, see https://docs.astropy.org/en/latest/units/combining_and_defining.html [astropy.units.core]\n",
      "WARNING: UnitsWarning: 'e-' did not parse as fits unit: At col 0, Unit 'e' not supported by the FITS standard.  If this is meant to be a custom unit, define it with 'u.def_unit'. To have it recognized inside a file reader or other code, enable it with 'u.add_enabled_units'. For details, see https://docs.astropy.org/en/latest/units/combining_and_defining.html [astropy.units.core]\n",
      "WARNING: UnitsWarning: 'angstroms' did not parse as fits unit: At col 0, Unit 'angstroms' not supported by the FITS standard. Did you mean Angstrom or angstrom? If this is meant to be a custom unit, define it with 'u.def_unit'. To have it recognized inside a file reader or other code, enable it with 'u.add_enabled_units'. For details, see https://docs.astropy.org/en/latest/units/combining_and_defining.html [astropy.units.core]\n",
      "WARNING: UnitsWarning: 'unitless' did not parse as fits unit: At col 0, Unit 'unitless' not supported by the FITS standard.  If this is meant to be a custom unit, define it with 'u.def_unit'. To have it recognized inside a file reader or other code, enable it with 'u.add_enabled_units'. For details, see https://docs.astropy.org/en/latest/units/combining_and_defining.html [astropy.units.core]\n"
     ]
    }
   ],
   "source": [
    "from astropy.io import fits\n",
    "import numpy as np\n",
    "from rvdata.instruments.expres.level2 import EXPRESRV2\n",
    "\n",
    "\n",
    "file_path = '/Users/joellama/Dropbox/expres-projects/RVData-translator/Sun_250330.5117.fits'\n",
    "from rvdata.core.models.level2 import RV2\n",
    "rv2_obj = RV2.from_fits(file_path, instrument='EXPRES')\n"
   ]
  },
  {
   "cell_type": "code",
   "execution_count": 2,
   "metadata": {},
   "outputs": [],
   "source": [
    "rv2_obj.to_fits('./expres_standard.fits')"
   ]
  },
  {
   "cell_type": "code",
   "execution_count": null,
   "metadata": {},
   "outputs": [],
   "source": [
    "hdul = fits.open('/Users/joellama/Dropbox/RVData-expres-translator2/Sun_250330.5117.fits')\n",
    "rv2_obj = EXPRESRV2()\n",
    "rv2_obj._read(hdul)"
   ]
  },
  {
   "cell_type": "code",
   "execution_count": null,
   "metadata": {},
   "outputs": [],
   "source": [
    "from rvdata.core.models.base import RVDataModel"
   ]
  },
  {
   "cell_type": "code",
   "execution_count": null,
   "metadata": {},
   "outputs": [],
   "source": [
    "from rvdata.core.models.definitions import FITS_TYPE_MAP, INSTRUMENT_READERS"
   ]
  },
  {
   "cell_type": "code",
   "execution_count": null,
   "metadata": {},
   "outputs": [],
   "source": [
    "np.nanmax(rv2_obj.data['TRACE1_FLUX'])"
   ]
  },
  {
   "cell_type": "code",
   "execution_count": null,
   "metadata": {},
   "outputs": [],
   "source": [
    "INSTRUMENT_READERS.keys()"
   ]
  },
  {
   "cell_type": "code",
   "execution_count": null,
   "metadata": {},
   "outputs": [],
   "source": [
    "t = Table.read(hdul)  "
   ]
  },
  {
   "cell_type": "code",
   "execution_count": 3,
   "metadata": {},
   "outputs": [
    {
     "data": {
      "text/plain": [
       "'/Users/joellama/Dropbox/expres-projects/RVData-translator'"
      ]
     },
     "execution_count": 3,
     "metadata": {},
     "output_type": "execute_result"
    }
   ],
   "source": [
    "pwd"
   ]
  },
  {
   "cell_type": "code",
   "execution_count": null,
   "metadata": {},
   "outputs": [],
   "source": []
  }
 ],
 "metadata": {
  "kernelspec": {
   "display_name": "Python 3 (ipykernel)",
   "language": "python",
   "name": "python3"
  },
  "language_info": {
   "codemirror_mode": {
    "name": "ipython",
    "version": 3
   },
   "file_extension": ".py",
   "mimetype": "text/x-python",
   "name": "python",
   "nbconvert_exporter": "python",
   "pygments_lexer": "ipython3",
   "version": "3.9.12"
  }
 },
 "nbformat": 4,
 "nbformat_minor": 4
}
